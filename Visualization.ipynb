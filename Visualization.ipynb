{
  "nbformat": 4,
  "nbformat_minor": 0,
  "metadata": {
    "colab": {
      "name": "Visualization.ipynb",
      "provenance": [],
      "authorship_tag": "ABX9TyODYVmKehCg33/8awbaVJWl",
      "include_colab_link": true
    },
    "kernelspec": {
      "name": "python3",
      "display_name": "Python 3"
    },
    "language_info": {
      "name": "python"
    }
  },
  "cells": [
    {
      "cell_type": "markdown",
      "metadata": {
        "id": "view-in-github",
        "colab_type": "text"
      },
      "source": [
        "<a href=\"https://colab.research.google.com/github/harshitadd/DP-NLP/blob/main/Visualization.ipynb\" target=\"_parent\"><img src=\"https://colab.research.google.com/assets/colab-badge.svg\" alt=\"Open In Colab\"/></a>"
      ]
    },
    {
      "cell_type": "code",
      "metadata": {
        "id": "6Uml-urN8p9b"
      },
      "source": [
        "import pickle\n",
        "import numpy as np\n",
        "import matplotlib.pyplot as plt"
      ],
      "execution_count": null,
      "outputs": []
    },
    {
      "cell_type": "code",
      "metadata": {
        "id": "UFYYhcVS2qNd"
      },
      "source": [
        "with open('/content/train_acc_vanilla.bin','rb') as file:\n",
        "  va_tr = pickle.load(file)\n",
        "with open('/content/train_acc_vanilla.bin','rb') as file:\n",
        "  va_te = pickle.load(file)\n",
        "with open('/content/train_acc_0.5.bin','rb') as file:\n",
        "  eps1_tr = pickle.load(file)\n",
        "with open('/content/train_acc_2.bin','rb') as file:\n",
        "  eps2_tr = pickle.load(file)\n",
        "with open('/content/train_acc_5.bin','rb') as file:\n",
        "  eps3_tr = pickle.load(file)\n",
        "with open('/content/train_acc_15.bin','rb') as file:\n",
        "  eps4_tr = pickle.load(file)\n",
        "with open('/content/test_acc_0.5.bin','rb') as file:\n",
        "  eps1_te = pickle.load(file)\n",
        "with open('/content/test_acc_2.bin','rb') as file:\n",
        "  eps2_te = pickle.load(file)\n",
        "with open('/content/test_acc_5.bin','rb') as file:\n",
        "  eps3_te = pickle.load(file)\n",
        "with open('/content/test_acc_15.bin','rb') as file:\n",
        "  eps4_te = pickle.load(file)"
      ],
      "execution_count": null,
      "outputs": []
    },
    {
      "cell_type": "code",
      "metadata": {
        "id": "SLun7rMI34NH"
      },
      "source": [
        "eps1_train=[]\n",
        "eps2_train=[]\n",
        "eps3_train=[]\n",
        "eps4_train=[]\n",
        "for i in range(0,len(eps1_tr),120):\n",
        "  eps1_train.append(np.average(eps1_tr[i:i+120])*100)\n",
        "for i in range(0,len(eps2_tr),120):\n",
        "  eps2_train.append(np.average(eps2_tr[i:i+120])*100)\n",
        "for i in range(0,len(eps3_tr),120):\n",
        "  eps3_train.append(np.average(eps3_tr[i:i+120])*100)\n",
        "for i in range(0,len(eps4_tr),120):\n",
        "  eps4_train.append(np.average(eps4_tr[i:i+120])*100)\n"
      ],
      "execution_count": null,
      "outputs": []
    },
    {
      "cell_type": "code",
      "metadata": {
        "id": "D1sONEng7DyJ"
      },
      "source": [
        "eps1_test=[]\n",
        "eps2_test=[]\n",
        "eps3_test=[]\n",
        "eps4_test=[]\n",
        "for i in range(0,len(eps1_te),120):\n",
        "  eps1_test.append(np.average(eps1_te[i:i+120])*100)\n",
        "for i in range(0,len(eps2_te),120):\n",
        "  eps2_test.append(np.average(eps2_te[i:i+120])*100)\n",
        "for i in range(0,len(eps3_te),120):\n",
        "  eps3_test.append(np.average(eps3_te[i:i+120])*100)\n",
        "for i in range(0,len(eps4_te),120):\n",
        "  eps4_test.append(np.average(eps4_te[i:i+120])*100)\n"
      ],
      "execution_count": null,
      "outputs": []
    },
    {
      "cell_type": "code",
      "metadata": {
        "id": "V1Td-g_17su-"
      },
      "source": [
        "va_train = []\n",
        "va_test = []\n",
        "for i in range(0,len(va_tr),500):\n",
        "  va_train.append(np.average(va_tr[i:i+500])*100)\n",
        "for i in range(0,len(va_te),500):\n",
        "  va_test.append(np.average(va_te[i:i+500])*100)"
      ],
      "execution_count": null,
      "outputs": []
    },
    {
      "cell_type": "code",
      "metadata": {
        "id": "ZHC-EmP5-v6p"
      },
      "source": [
        "font = {'family' : 'normal',\n",
        "        'size'   : 20}\n",
        "\n",
        "plt.rc('font', **font)"
      ],
      "execution_count": null,
      "outputs": []
    },
    {
      "cell_type": "code",
      "metadata": {
        "id": "IBN1UPDK_IpS"
      },
      "source": [
        "plt.rcParams[\"figure.figsize\"] = (10,7)"
      ],
      "execution_count": null,
      "outputs": []
    },
    {
      "cell_type": "code",
      "metadata": {
        "id": "H9ZmYymQ1IJA"
      },
      "source": [
        "# plt.title(\"DP-BERT Train Accuracy\", fontdict={'fontsize':15})\n",
        "plt.plot(va_train,'k-o', ls='-', markevery=[-1],label='eps=inf', )\n",
        "plt.plot(eps1_train,'b-o', ls='-',label='eps=0.5',markevery=[-1])\n",
        "plt.plot(eps2_train,'g-o', ls='-',label='eps=2',markevery=[-1])\n",
        "plt.plot(eps3_train,'r-o',ls='-',label='eps=5',markevery=[-1])\n",
        "plt.plot(eps4_train,'y-o', ls='-',label='eps=15',markevery=[-1])\n",
        "plt.xticks(fontsize=20)\n",
        "plt.yticks(fontsize=20)\n",
        "plt.xlabel('Steps')\n",
        "plt.ylabel('Train Accuracy')\n",
        "lgd = plt.legend(bbox_to_anchor=(1.32,1.05), loc='upper right', fontsize=20)\n",
        "plt.savefig(\"/content/dp-bert_train.png\", format='png', bbox_extra_artists=(lgd,),\n",
        "            bbox_inches='tight')\n",
        "plt.show()\n"
      ],
      "execution_count": null,
      "outputs": []
    },
    {
      "cell_type": "code",
      "metadata": {
        "id": "uoxudB5QB26C"
      },
      "source": [
        "# plt.title(\"DP-BERT Test Accuracy\", fontdict={'fontsize':15})\n",
        "plt.plot(va_test,'k-o', ls='-', markevery=[-1],label='eps=inf')\n",
        "plt.plot(eps1_test,'b-o', ls='-',label='eps=0.5',markevery=[-1])\n",
        "plt.plot(eps2_test,'g-o', ls='-',label='eps=2',markevery=[-1])\n",
        "plt.plot(eps3_test,'r-o',ls='-',label='eps=5',markevery=[-1])\n",
        "plt.plot(eps4_test,'y-o', ls='-',label='eps=15',markevery=[-1])\n",
        "plt.xticks(fontsize=20)\n",
        "plt.yticks(fontsize=20)\n",
        "plt.xlabel('Steps')\n",
        "plt.ylabel('Test Accuracy')\n",
        "lgd = plt.legend(bbox_to_anchor=(1.32,1.05), loc='upper right', fontsize=20)\n",
        "plt.savefig(\"/content/dp-bert_test.png\", format='png', bbox_extra_artists=(lgd,),\n",
        "            bbox_inches='tight')\n",
        "plt.show()"
      ],
      "execution_count": null,
      "outputs": []
    }
  ]
}