{
  "nbformat": 4,
  "nbformat_minor": 0,
  "metadata": {
    "colab": {
      "name": "NWP_RNN.ipynb",
      "provenance": [],
      "authorship_tag": "ABX9TyNpR2uvwWvS/uSiSizsHmtU",
      "include_colab_link": true
    },
    "kernelspec": {
      "name": "python3",
      "display_name": "Python 3"
    },
    "language_info": {
      "name": "python"
    }
  },
  "cells": [
    {
      "cell_type": "markdown",
      "metadata": {
        "id": "view-in-github",
        "colab_type": "text"
      },
      "source": [
        "<a href=\"https://colab.research.google.com/github/harshitadd/DP-NLP/blob/main/NWP_RNN.ipynb\" target=\"_parent\"><img src=\"https://colab.research.google.com/assets/colab-badge.svg\" alt=\"Open In Colab\"/></a>"
      ]
    },
    {
      "cell_type": "markdown",
      "metadata": {
        "id": "UF_6BloEcAO3"
      },
      "source": [
        "Source\n",
        "[Tutorial](https://github.com/spro/practical-pytorch/blob/master/char-rnn-generation/char-rnn-generation.ipynb)"
      ]
    },
    {
      "cell_type": "code",
      "metadata": {
        "colab": {
          "base_uri": "https://localhost:8080/"
        },
        "id": "eOPhEQhRStv0",
        "outputId": "2881a38c-8d00-42a0-cc35-4a013c1067be"
      },
      "source": [
        "!pip install unidecode"
      ],
      "execution_count": 2,
      "outputs": [
        {
          "output_type": "stream",
          "text": [
            "Collecting unidecode\n",
            "\u001b[?25l  Downloading https://files.pythonhosted.org/packages/9e/25/723487ca2a52ebcee88a34d7d1f5a4b80b793f179ee0f62d5371938dfa01/Unidecode-1.2.0-py2.py3-none-any.whl (241kB)\n",
            "\r\u001b[K     |█▍                              | 10kB 18.0MB/s eta 0:00:01\r\u001b[K     |██▊                             | 20kB 22.7MB/s eta 0:00:01\r\u001b[K     |████                            | 30kB 28.2MB/s eta 0:00:01\r\u001b[K     |█████▍                          | 40kB 22.0MB/s eta 0:00:01\r\u001b[K     |██████▉                         | 51kB 12.6MB/s eta 0:00:01\r\u001b[K     |████████▏                       | 61kB 11.3MB/s eta 0:00:01\r\u001b[K     |█████████▌                      | 71kB 12.3MB/s eta 0:00:01\r\u001b[K     |██████████▉                     | 81kB 13.3MB/s eta 0:00:01\r\u001b[K     |████████████▏                   | 92kB 14.4MB/s eta 0:00:01\r\u001b[K     |█████████████▋                  | 102kB 15.6MB/s eta 0:00:01\r\u001b[K     |███████████████                 | 112kB 15.6MB/s eta 0:00:01\r\u001b[K     |████████████████▎               | 122kB 15.6MB/s eta 0:00:01\r\u001b[K     |█████████████████▋              | 133kB 15.6MB/s eta 0:00:01\r\u001b[K     |███████████████████             | 143kB 15.6MB/s eta 0:00:01\r\u001b[K     |████████████████████▍           | 153kB 15.6MB/s eta 0:00:01\r\u001b[K     |█████████████████████▊          | 163kB 15.6MB/s eta 0:00:01\r\u001b[K     |███████████████████████         | 174kB 15.6MB/s eta 0:00:01\r\u001b[K     |████████████████████████▍       | 184kB 15.6MB/s eta 0:00:01\r\u001b[K     |█████████████████████████▊      | 194kB 15.6MB/s eta 0:00:01\r\u001b[K     |███████████████████████████▏    | 204kB 15.6MB/s eta 0:00:01\r\u001b[K     |████████████████████████████▌   | 215kB 15.6MB/s eta 0:00:01\r\u001b[K     |█████████████████████████████▉  | 225kB 15.6MB/s eta 0:00:01\r\u001b[K     |███████████████████████████████▏| 235kB 15.6MB/s eta 0:00:01\r\u001b[K     |████████████████████████████████| 245kB 15.6MB/s \n",
            "\u001b[?25hInstalling collected packages: unidecode\n",
            "Successfully installed unidecode-1.2.0\n"
          ],
          "name": "stdout"
        }
      ]
    },
    {
      "cell_type": "code",
      "metadata": {
        "colab": {
          "base_uri": "https://localhost:8080/"
        },
        "id": "epryMGA93pa8",
        "outputId": "68b8935d-3c8b-45e3-edee-8b65cd3ed256"
      },
      "source": [
        "import unidecode\n",
        "import torch\n",
        "import torch.nn as nn\n",
        "from torch.autograd import Variable\n",
        "import string\n",
        "import random\n",
        "import re\n",
        "\n",
        "all_characters = string.printable\n",
        "n_characters = len(all_characters)\n",
        "\n",
        "file = unidecode.unidecode(open('/content/PrideAndPrejudice.txt').read())\n",
        "file_len = len(file)\n",
        "print('file_len =', file_len)"
      ],
      "execution_count": 3,
      "outputs": [
        {
          "output_type": "stream",
          "text": [
            "file_len = 776110\n"
          ],
          "name": "stdout"
        }
      ]
    },
    {
      "cell_type": "code",
      "metadata": {
        "id": "xk74wL44Spma"
      },
      "source": [
        "chunk_len = 200\n",
        "def random_chunk():\n",
        "    start_index = random.randint(0, file_len - chunk_len)\n",
        "    end_index = start_index + chunk_len + 1\n",
        "    return file[start_index:end_index]"
      ],
      "execution_count": null,
      "outputs": []
    },
    {
      "cell_type": "code",
      "metadata": {
        "id": "RmXekz5cS4fM"
      },
      "source": [
        "class RNN(nn.Module):\n",
        "    def __init__(self, input_size, hidden_size, output_size, n_layers=1):\n",
        "        super(RNN, self).__init__()\n",
        "        self.input_size = input_size\n",
        "        self.hidden_size = hidden_size\n",
        "        self.output_size = output_size\n",
        "        self.n_layers = n_layers\n",
        "        \n",
        "        self.encoder = nn.Embedding(input_size, hidden_size)\n",
        "        self.gru = nn.GRU(hidden_size, hidden_size, n_layers)\n",
        "        self.decoder = nn.Linear(hidden_size, output_size)\n",
        "    \n",
        "    def forward(self, input, hidden):\n",
        "        input = self.encoder(input.view(1, -1))\n",
        "        output, hidden = self.gru(input.view(1, 1, -1), hidden)\n",
        "        output = self.decoder(output.view(1, -1))\n",
        "        return output, hidden\n",
        "\n",
        "    def init_hidden(self):\n",
        "        return Variable(torch.zeros(self.n_layers, 1, self.hidden_size))"
      ],
      "execution_count": 5,
      "outputs": []
    },
    {
      "cell_type": "code",
      "metadata": {
        "colab": {
          "base_uri": "https://localhost:8080/"
        },
        "id": "WeUcM0fZT8yo",
        "outputId": "bb08cdfb-af6a-47c9-caba-007b4a4bb9f6"
      },
      "source": [
        "# Turn string into list of longs\n",
        "def char_tensor(string):\n",
        "    tensor = torch.zeros(len(string)).long()\n",
        "    for c in range(len(string)):\n",
        "        tensor[c] = all_characters.index(string[c])\n",
        "    return Variable(tensor)\n",
        "\n",
        "print(char_tensor('abcDEF'))"
      ],
      "execution_count": 6,
      "outputs": [
        {
          "output_type": "stream",
          "text": [
            "tensor([10, 11, 12, 39, 40, 41])\n"
          ],
          "name": "stdout"
        }
      ]
    },
    {
      "cell_type": "code",
      "metadata": {
        "id": "lgN3pn7TT_O2"
      },
      "source": [
        "def random_training_set():    \n",
        "    chunk = random_chunk()\n",
        "    inp = char_tensor(chunk[:-1])\n",
        "    target = char_tensor(chunk[1:])\n",
        "    return inp, target"
      ],
      "execution_count": 12,
      "outputs": []
    },
    {
      "cell_type": "code",
      "metadata": {
        "id": "JOuKaS7YUE-U"
      },
      "source": [
        "def evaluate(prime_str='A', predict_len=100, temperature=0.8):\n",
        "    hidden = decoder.init_hidden()\n",
        "    prime_input = char_tensor(prime_str)\n",
        "    predicted = prime_str\n",
        "\n",
        "    # Use priming string to \"build up\" hidden state\n",
        "    for p in range(len(prime_str) - 1):\n",
        "        _, hidden = decoder(prime_input[p], hidden)\n",
        "    inp = prime_input[-1]\n",
        "    \n",
        "    for p in range(predict_len):\n",
        "        output, hidden = decoder(inp, hidden)\n",
        "        \n",
        "        # Sample from the network as a multinomial distribution\n",
        "        output_dist = output.data.view(-1).div(temperature).exp()\n",
        "        top_i = torch.multinomial(output_dist, 1)[0]\n",
        "        \n",
        "        # Add predicted character to string and use as next input\n",
        "        predicted_char = all_characters[top_i]\n",
        "        predicted += predicted_char\n",
        "        inp = char_tensor(predicted_char)\n",
        "\n",
        "    return predicted"
      ],
      "execution_count": 8,
      "outputs": []
    },
    {
      "cell_type": "code",
      "metadata": {
        "id": "nEiJDr3JUMcX"
      },
      "source": [
        "import time, math\n",
        "\n",
        "def time_since(since):\n",
        "    s = time.time() - since\n",
        "    m = math.floor(s / 60)\n",
        "    s -= m * 60\n",
        "    return '%dm %ds' % (m, s)"
      ],
      "execution_count": 9,
      "outputs": []
    },
    {
      "cell_type": "code",
      "metadata": {
        "id": "kiyetZZ3UPh7"
      },
      "source": [
        "def train(inp, target):\n",
        "    hidden = decoder.init_hidden()\n",
        "    decoder.zero_grad()\n",
        "    loss = 0\n",
        "\n",
        "    for c in range(chunk_len):\n",
        "        output, hidden = decoder(inp[c], hidden)\n",
        "        loss += criterion(output, target[c].unsqueeze(0))\n",
        "\n",
        "    loss.backward()\n",
        "    decoder_optimizer.step()\n",
        "\n",
        "    return loss.data.item() / chunk_len"
      ],
      "execution_count": 17,
      "outputs": []
    },
    {
      "cell_type": "code",
      "metadata": {
        "colab": {
          "base_uri": "https://localhost:8080/"
        },
        "id": "Gy4d3sw-UUWW",
        "outputId": "0e61287f-e705-4ec2-a4c5-38a23ffa1c1e"
      },
      "source": [
        "n_epochs = 2000\n",
        "print_every = 100\n",
        "plot_every = 10\n",
        "hidden_size = 100\n",
        "n_layers = 1\n",
        "lr = 0.005\n",
        "\n",
        "decoder = RNN(n_characters, hidden_size, n_characters, n_layers)\n",
        "decoder_optimizer = torch.optim.Adam(decoder.parameters(), lr=lr)\n",
        "criterion = nn.CrossEntropyLoss()\n",
        "\n",
        "start = time.time()\n",
        "all_losses = []\n",
        "loss_avg = 0\n",
        "\n",
        "for epoch in range(1, n_epochs + 1):\n",
        "    loss = train(*random_training_set())       \n",
        "    loss_avg += loss\n",
        "\n",
        "    if epoch % print_every == 0:\n",
        "        print('[%s (%d %d%%) %.4f]' % (time_since(start), epoch, epoch / n_epochs * 100, loss))\n",
        "        print(evaluate('Wh', 100), '\\n')\n",
        "\n",
        "    if epoch % plot_every == 0:\n",
        "        all_losses.append(loss_avg / plot_every)\n",
        "        loss_avg = 0\n"
      ],
      "execution_count": 19,
      "outputs": [
        {
          "output_type": "stream",
          "text": [
            "[0m 9s (100 5%) 2.1051]\n",
            "Whay natend eryipeacat anthere\n",
            "       re thin were sof fite, and and afon as dours in icon thered of   \n",
            "\n",
            "[0m 19s (200 10%) 1.7689]\n",
            "Wht at susce the fort onste aryagiting eve sussed cleand a nerrildrted as such dere the maralt lod to  \n",
            "\n",
            "[0m 29s (300 15%) 1.7614]\n",
            "What me; thable had frofure all hought the reave bink ayand at she orly very shous of shiss\n",
            "     in to \n",
            "\n",
            "[0m 39s (400 20%) 1.7071]\n",
            "Whourid on dours stell of the spearts a such the last dous expted the ound objut all Por to be inston  \n",
            "\n",
            "[0m 49s (500 25%) 1.8084]\n",
            "Whing homas of expossinity thoul do say of in in\n",
            "      forusas of whou was suress winon on her many ha \n",
            "\n",
            "[0m 59s (600 30%) 1.7677]\n",
            "Whus and troundiil, absook sist a she dain amseded this wand be alat his was add year to therferself s \n",
            "\n",
            "[1m 9s (700 35%) 1.6135]\n",
            "Wher ungre pelast was your her suchect of hour ank was the no gon all dess for the prave\n",
            "      think s \n",
            "\n",
            "[1m 19s (800 40%) 1.4314]\n",
            "Whill dide nothers if to gen Lucy to wamed.\n",
            "\n",
            "       To thee to\n",
            "      bith in resageen of gartier; and  \n",
            "\n",
            "[1m 29s (900 45%) 1.5596]\n",
            "Which to she despines, whot and which whous as awited, in Mrs. Bennet which are to but with outt at co \n",
            "\n",
            "[1m 39s (1000 50%) 1.7248]\n",
            "Whe was not atteence of\n",
            "     some even in you beclianse. Jane\n",
            "        considess of her recated accolle \n",
            "\n",
            "[1m 49s (1100 55%) 1.7113]\n",
            "Whel so the with the she came to be and; and samy be when the to\n",
            "      \"Kivinion not I meave to eether \n",
            "\n",
            "[1m 59s (1200 60%) 1.7336]\n",
            "Which. As am so very with, as I was am that sisterst the\n",
            "       son their discomes maging\n",
            "     get was \n",
            "\n",
            "[2m 9s (1300 65%) 1.5451]\n",
            "Whit he cosent\n",
            "      he\n",
            "      alling be of the sound their reatulating no appeation of to decection th \n",
            "\n",
            "[2m 19s (1400 70%) 1.5201]\n",
            "Which of that which with the walked the very woule that their vovertation disads. But she insomething  \n",
            "\n",
            "[2m 29s (1500 75%) 1.4509]\n",
            "When to hould be be for his affer aun the nothing had ater her on word\n",
            "       the in\n",
            "      that the co \n",
            "\n",
            "[2m 39s (1600 80%) 1.6274]\n",
            "Which Wickham, will crown would nos he wasily\n",
            "      the she had\n",
            "      friend. He\n",
            "      as it her I sha \n",
            "\n",
            "[2m 49s (1700 85%) 1.7961]\n",
            "When diding repanty to be dut ear to creption. But with, and bely what the when\n",
            "      such are, the sa \n",
            "\n",
            "[2m 59s (1800 90%) 1.3693]\n",
            "Wh, and the contruce, not\n",
            "      beliending her man life howed her, and, I and young the gret his done  \n",
            "\n",
            "[3m 9s (1900 95%) 1.6477]\n",
            "Wheint with how.\"\n",
            "\n",
            "      The reall othermice where wowd in the proomibined. But coming and\n",
            "      then  \n",
            "\n",
            "[3m 19s (2000 100%) 1.3895]\n",
            "Which to be so dify is have molrow he all grest for her with some, do be her in lady,\" marry againd, s \n",
            "\n"
          ],
          "name": "stdout"
        }
      ]
    },
    {
      "cell_type": "code",
      "metadata": {
        "colab": {
          "base_uri": "https://localhost:8080/",
          "height": 283
        },
        "id": "abBiXsIIVMPU",
        "outputId": "fea8c421-8248-4197-96bf-b94d26adabd3"
      },
      "source": [
        "import matplotlib.pyplot as plt\n",
        "import matplotlib.ticker as ticker\n",
        "%matplotlib inline\n",
        "\n",
        "plt.figure()\n",
        "plt.plot(all_losses)"
      ],
      "execution_count": 20,
      "outputs": [
        {
          "output_type": "execute_result",
          "data": {
            "text/plain": [
              "[<matplotlib.lines.Line2D at 0x7f5c849e4350>]"
            ]
          },
          "metadata": {
            "tags": []
          },
          "execution_count": 20
        },
        {
          "output_type": "display_data",
          "data": {
            "image/png": "[encoded data removed]",
            "text/plain": [
              "<Figure size 432x288 with 1 Axes>"
            ]
          },
          "metadata": {
            "tags": [],
            "needs_background": "light"
          }
        }
      ]
    },
    {
      "cell_type": "code",
      "metadata": {
        "id": "EF8h2hU7b5Ai"
      },
      "source": [
        ""
      ],
      "execution_count": null,
      "outputs": []
    }
  ]
}