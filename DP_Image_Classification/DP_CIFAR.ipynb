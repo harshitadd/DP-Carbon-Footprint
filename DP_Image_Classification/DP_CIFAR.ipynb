{
  "nbformat": 4,
  "nbformat_minor": 0,
  "metadata": {
    "colab": {
      "name": "DP_CIFAR.ipynb",
      "provenance": []
    },
    "kernelspec": {
      "name": "python3",
      "display_name": "Python 3"
    },
    "language_info": {
      "name": "python"
    },
    "accelerator": "GPU"
  },
  "cells": [
    {
      "cell_type": "code",
      "metadata": {
        "id": "w_l_GC2nQ1gq"
      },
      "source": [
        "pip install torchcsprng==0.1.3+cu101 -f https://download.pytorch.org/whl/torch_stable.html"
      ],
      "execution_count": 1,
      "outputs": []
    },
    {
      "cell_type": "code",
      "metadata": {
        "id": "TgerGn8lQ-lD"
      },
      "source": [
        "pip install opacus"
      ],
      "execution_count": 2,
      "outputs": []
    },
    {
      "cell_type": "code",
      "metadata": {
        "id": "1DXYECdWy9y-"
      },
      "source": [
        "pip install tzlocal==2.0"
      ],
      "execution_count": 3,
      "outputs": []
    },
    {
      "cell_type": "code",
      "metadata": {
        "id": "yvBGJxenzAEF"
      },
      "source": [
        "pip install codecarbon"
      ],
      "execution_count": 4,
      "outputs": []
    },
    {
      "cell_type": "code",
      "metadata": {
        "id": "XmObJ3mqzKAG"
      },
      "source": [
        "pip install wandb"
      ],
      "execution_count": 5,
      "outputs": []
    },
    {
      "cell_type": "code",
      "metadata": {
        "id": "q-2BupupAbqI",
        "colab": {
          "base_uri": "https://localhost:8080/"
        },
        "outputId": "b6f19ede-6df0-4140-ac60-4b16430ef0f7"
      },
      "source": [
        "from codecarbon import EmissionsTracker"
      ],
      "execution_count": 1,
      "outputs": [
        {
          "output_type": "stream",
          "text": [
            "/usr/local/lib/python3.7/dist-packages/requests/__init__.py:91: RequestsDependencyWarning: urllib3 (1.26.6) or chardet (3.0.4) doesn't match a supported version!\n",
            "  RequestsDependencyWarning)\n"
          ],
          "name": "stderr"
        }
      ]
    },
    {
      "cell_type": "code",
      "metadata": {
        "id": "YOUI4oNuR2GI"
      },
      "source": [
        "MAX_GRAD_NORM = 1.2\n",
        "EPSILON = 10\n",
        "DELTA = 1e-5\n",
        "EPOCHS = 30\n",
        "LR = 1e-3\n",
        "NUM_WORKERS = 2"
      ],
      "execution_count": 2,
      "outputs": []
    },
    {
      "cell_type": "code",
      "metadata": {
        "id": "UJfV1JLCR70O"
      },
      "source": [
        "BATCH_SIZE = 64\n",
        "VIRTUAL_BATCH_SIZE = 128\n",
        "assert VIRTUAL_BATCH_SIZE % BATCH_SIZE == 0 # VIRTUAL_BATCH_SIZE should be divisible by BATCH_SIZE\n",
        "N_ACCUMULATION_STEPS = int(VIRTUAL_BATCH_SIZE / BATCH_SIZE)\n"
      ],
      "execution_count": 3,
      "outputs": []
    },
    {
      "cell_type": "code",
      "metadata": {
        "id": "ykbnJS3OR-sr"
      },
      "source": [
        "import torch\n",
        "import torchvision\n",
        "import torchvision.transforms as transforms\n",
        "\n",
        "# These values, specific to the CIFAR10 dataset, are assumed to be known.\n",
        "# If necessary, they can be computed with modest privacy budget.\n",
        "CIFAR10_MEAN = (0.4914, 0.4822, 0.4465)\n",
        "CIFAR10_STD_DEV = (0.2023, 0.1994, 0.2010)\n",
        "\n",
        "transform = transforms.Compose([\n",
        "    transforms.ToTensor(),\n",
        "    transforms.Normalize(CIFAR10_MEAN, CIFAR10_STD_DEV),\n",
        "])"
      ],
      "execution_count": 4,
      "outputs": []
    },
    {
      "cell_type": "code",
      "metadata": {
        "colab": {
          "base_uri": "https://localhost:8080/"
        },
        "id": "FwkQ_oRyQoR5",
        "outputId": "317e8d3f-4a9d-403a-c11c-75f82d40de78"
      },
      "source": [
        "from torchvision.datasets import CIFAR10\n",
        "from opacus.utils.uniform_sampler import UniformWithReplacementSampler\n",
        "\n",
        "DATA_ROOT = '../cifar10'\n",
        "\n",
        "train_dataset = CIFAR10(\n",
        "    root=DATA_ROOT, train=True, download=True, transform=transform)\n",
        "\n",
        "SAMPLE_RATE = BATCH_SIZE / len(train_dataset)\n",
        "\n",
        "train_loader = torch.utils.data.DataLoader(\n",
        "    train_dataset,\n",
        "    num_workers=NUM_WORKERS,\n",
        "    batch_sampler=UniformWithReplacementSampler(\n",
        "        num_samples=len(train_dataset),\n",
        "        sample_rate=SAMPLE_RATE,\n",
        "    ),\n",
        ")\n",
        "\n",
        "test_dataset = CIFAR10(\n",
        "    root=DATA_ROOT, train=False, download=True, transform=transform)\n",
        "\n",
        "test_loader = torch.utils.data.DataLoader(\n",
        "    test_dataset,\n",
        "    batch_size=BATCH_SIZE,\n",
        "    shuffle=False,\n",
        "    num_workers=NUM_WORKERS,\n",
        ")"
      ],
      "execution_count": 5,
      "outputs": [
        {
          "output_type": "stream",
          "text": [
            "Files already downloaded and verified\n",
            "Files already downloaded and verified\n"
          ],
          "name": "stdout"
        }
      ]
    },
    {
      "cell_type": "code",
      "metadata": {
        "id": "fjLxV_QBRzpz"
      },
      "source": [
        "from torchvision import models\n",
        "import torch.nn as nn\n",
        "model = models.resnet18(pretrained=True)\n",
        "model.fc = nn.Linear(512,10)"
      ],
      "execution_count": 6,
      "outputs": []
    },
    {
      "cell_type": "markdown",
      "metadata": {
        "id": "71HKkLkVR5Gv"
      },
      "source": [
        "# Set Epsilon value to \"inf\" for Non-Private training"
      ]
    },
    {
      "cell_type": "code",
      "metadata": {
        "id": "ueXSSP_4R8D2"
      },
      "source": [
        "EPSILON = \"inf\""
      ],
      "execution_count": 7,
      "outputs": []
    },
    {
      "cell_type": "code",
      "metadata": {
        "id": "NpBC-sr7SQj_"
      },
      "source": [
        "if(EPSILON !=\"inf\"):\n",
        "  from opacus.dp_model_inspector import DPModelInspector\n",
        "  from opacus.utils import module_modification\n",
        "\n",
        "  model = module_modification.convert_batchnorm_modules(model)\n",
        "  inspector = DPModelInspector()\n",
        "  print(f\"Is the model valid? {inspector.validate(model)}\")"
      ],
      "execution_count": 8,
      "outputs": []
    },
    {
      "cell_type": "code",
      "metadata": {
        "id": "efkTRnXzSGb7"
      },
      "source": [
        "device = torch.device(\"cuda\" if torch.cuda.is_available() else \"cpu\")\n",
        "\n",
        "model = model.to(device)"
      ],
      "execution_count": 9,
      "outputs": []
    },
    {
      "cell_type": "code",
      "metadata": {
        "id": "R6R--Eb7SU_g"
      },
      "source": [
        "import torch.optim as optim\n",
        "\n",
        "criterion = nn.CrossEntropyLoss()\n",
        "if(EPSILON==\"inf\"):\n",
        "  LR = 1e-6\n",
        "optimizer = optim.RMSprop(model.parameters(), lr=LR)"
      ],
      "execution_count": 10,
      "outputs": []
    },
    {
      "cell_type": "code",
      "metadata": {
        "id": "IdaKo7QdSiZ6"
      },
      "source": [
        "def accuracy(preds, labels):\n",
        "    return (preds == labels).mean()"
      ],
      "execution_count": 11,
      "outputs": []
    },
    {
      "cell_type": "code",
      "metadata": {
        "id": "A1zUae8NSkDo"
      },
      "source": [
        "if(EPSILON!=\"inf\"):\n",
        "  from opacus import PrivacyEngine\n",
        "\n",
        "  privacy_engine = PrivacyEngine(\n",
        "      model,\n",
        "      sample_rate=SAMPLE_RATE * N_ACCUMULATION_STEPS,\n",
        "      epochs = EPOCHS,\n",
        "      target_epsilon = EPSILON,\n",
        "      target_delta = DELTA,\n",
        "      max_grad_norm=MAX_GRAD_NORM,\n",
        "  )\n",
        "  privacy_engine.attach(optimizer)\n",
        "\n",
        "  print(f\"Using sigma={privacy_engine.noise_multiplier} and C={MAX_GRAD_NORM}\")"
      ],
      "execution_count": 12,
      "outputs": []
    },
    {
      "cell_type": "code",
      "metadata": {
        "id": "f5ZUMQB_SlmN"
      },
      "source": [
        "import numpy as np\n",
        "\n",
        "def train(model, train_loader, optimizer, epoch, device):\n",
        "    model.train()\n",
        "    criterion = nn.CrossEntropyLoss()\n",
        "\n",
        "    losses = []\n",
        "    top1_acc = []\n",
        "\n",
        "    for i, (images, target) in enumerate(train_loader):        \n",
        "        images = images.to(device)\n",
        "        target = target.to(device)\n",
        "\n",
        "        # compute output\n",
        "        output = model(images)\n",
        "        loss = criterion(output, target)\n",
        "        \n",
        "        preds = np.argmax(output.detach().cpu().numpy(), axis=1)\n",
        "        labels = target.detach().cpu().numpy()\n",
        "        \n",
        "        # measure accuracy and record loss\n",
        "        acc = accuracy(preds, labels)\n",
        "\n",
        "        losses.append(loss.item())\n",
        "        top1_acc.append(acc)\n",
        "        \n",
        "        loss.backward()\n",
        "        \t\n",
        "        # take a real optimizer step after N_VIRTUAL_STEP steps t\n",
        "        if ((i + 1) % N_ACCUMULATION_STEPS == 0) or ((i + 1) == len(train_loader)):\n",
        "            optimizer.step()\n",
        "        else:\n",
        "            optimizer.virtual_step() # take a virtual step\n",
        "\n",
        "        if i % 200 == 0:\n",
        "            epsilon, best_alpha = optimizer.privacy_engine.get_privacy_spent(DELTA)\n",
        "            print(\n",
        "                f\"\\tTrain Epoch: {epoch} \\t\"\n",
        "                f\"Loss: {np.mean(losses):.6f} \"\n",
        "                f\"Acc@1: {np.mean(top1_acc) * 100:.6f} \"\n",
        "                f\"(ε = {epsilon:.2f}, δ = {DELTA})\"\n",
        "            )\n",
        "            #wandb.log({\"epsilon\":epsilon,\"Step\":i*epoch,\"step__train_acc\":(np.mean(top1_acc))*100})\n",
        "    return np.mean(losses), (np.mean(top1_acc))*100\n"
      ],
      "execution_count": 13,
      "outputs": []
    },
    {
      "cell_type": "code",
      "metadata": {
        "id": "oW5fKoi4Mqcl"
      },
      "source": [
        "import numpy as np\n",
        "\n",
        "def train_non_dp(model, train_loader, optimizer, epoch, device):\n",
        "    model.train()\n",
        "    criterion = nn.CrossEntropyLoss()\n",
        "\n",
        "    losses = []\n",
        "    top1_acc = []\n",
        "\n",
        "    for i, (images, target) in enumerate(train_loader):        \n",
        "        images = images.to(device)\n",
        "        target = target.to(device)\n",
        "\n",
        "        # compute output\n",
        "        output = model(images)\n",
        "        loss = criterion(output, target)\n",
        "        \n",
        "        preds = np.argmax(output.detach().cpu().numpy(), axis=1)\n",
        "        labels = target.detach().cpu().numpy()\n",
        "        \n",
        "        # measure accuracy and record loss\n",
        "        acc = accuracy(preds, labels)\n",
        "\n",
        "        losses.append(loss.item())\n",
        "        top1_acc.append(acc)\n",
        "        \n",
        "        loss.backward()\n",
        "        optimizer.step()\n",
        "\n",
        "        if i % 200 == 0:\n",
        "            print(\n",
        "                f\"\\tTrain Epoch: {epoch} \\t\"\n",
        "                f\"Loss: {np.mean(losses):.6f} \"\n",
        "                f\"Acc@1: {np.mean(top1_acc) * 100:.6f} \"\n",
        "            )\n",
        "            #wandb.log({\"epsilon\":epsilon,\"Step\":i*epoch,\"step__train_acc\":(np.mean(top1_acc))*100})\n",
        "    return np.mean(losses), (np.mean(top1_acc))*100"
      ],
      "execution_count": 14,
      "outputs": []
    },
    {
      "cell_type": "code",
      "metadata": {
        "id": "2ryqYEooSql6"
      },
      "source": [
        "def test(model, test_loader, device):\n",
        "    model.eval()\n",
        "    criterion = nn.CrossEntropyLoss()\n",
        "    losses = []\n",
        "    top1_acc = []\n",
        "\n",
        "    with torch.no_grad():\n",
        "        for images, target in test_loader:\n",
        "            images = images.to(device)\n",
        "            target = target.to(device)\n",
        "\n",
        "            output = model(images)\n",
        "            loss = criterion(output, target)\n",
        "            preds = np.argmax(output.detach().cpu().numpy(), axis=1)\n",
        "            labels = target.detach().cpu().numpy()\n",
        "            acc = accuracy(preds, labels)\n",
        "\n",
        "            losses.append(loss.item())\n",
        "            top1_acc.append(acc)\n",
        "\n",
        "    top1_avg = np.mean(top1_acc)\n",
        "\n",
        "    print(\n",
        "        f\"\\tTest set:\"\n",
        "        f\"Loss: {np.mean(losses):.6f} \"\n",
        "        f\"Acc: {top1_avg * 100:.6f} \"\n",
        "    )\n",
        "    return np.mean(losses),np.mean(top1_acc)*100"
      ],
      "execution_count": 15,
      "outputs": []
    },
    {
      "cell_type": "code",
      "metadata": {
        "id": "fMC2gcSDSsyj"
      },
      "source": [
        "from tqdm import tqdm\n",
        "def train_main(epsilon):\n",
        "  train_losses = []\n",
        "  train_accuracies = []\n",
        "  test_losses = []\n",
        "  test_accuracies = []\n",
        "\n",
        "  if(epsilon == \"inf\"):\n",
        "    tracker = EmissionsTracker(project_name='epsilon_CNN='+\"Infinity\")\n",
        "  else:\n",
        "    tracker = EmissionsTracker(project_name='epsilon_CNN='+str(epsilon))\n",
        "  tracker.start()\n",
        "  for epoch in tqdm(range(EPOCHS), desc=\"Epoch\", unit=\"epoch\"):\n",
        "      if(epsilon != \"inf\"):\n",
        "        train_loss,train_acc = train(model, train_loader, optimizer, epoch + 1, device)\n",
        "      else:\n",
        "        train_loss,train_acc = train_non_dp(model, train_loader, optimizer, epoch + 1, device)\n",
        "      test_loss,test_acc = test(model,test_loader,device)\n",
        "      train_losses.append(train_loss)\n",
        "      train_accuracies.append(train_acc)\n",
        "      test_losses.append(test_loss)\n",
        "      test_accuracies.append(test_acc)\n",
        "      if(test_acc >= 55):\n",
        "        print(\"Desired Accuracy Reached\")\n",
        "        break\n",
        "        #wandb.log({\"train_loss\":train_loss,\"train_acc\":train_acc, \"test_loss\":test_loss, \"test_acc\":test_acc})\n",
        "  emissions: float = tracker.stop()\n",
        "  print(emissions)\n",
        "  return train_losses,train_accuracies,test_losses,test_accuracies"
      ],
      "execution_count": 21,
      "outputs": []
    },
    {
      "cell_type": "code",
      "metadata": {
        "id": "v2yX5JCrSudX"
      },
      "source": [
        "train_losses,train_accuracies,test_losses,test_accuracies = train_main(EPSILON)"
      ],
      "execution_count": 20,
      "outputs": []
    },
    {
      "cell_type": "code",
      "metadata": {
        "id": "REamcMtUQFKd"
      },
      "source": [
        ""
      ],
      "execution_count": null,
      "outputs": []
    }
  ]
}