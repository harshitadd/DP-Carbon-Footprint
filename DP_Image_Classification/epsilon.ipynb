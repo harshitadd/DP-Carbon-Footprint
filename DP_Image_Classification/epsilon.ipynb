{
  "nbformat": 4,
  "nbformat_minor": 0,
  "metadata": {
    "colab": {
      "name": "epsilon.ipynb",
      "provenance": []
    },
    "kernelspec": {
      "name": "python3",
      "display_name": "Python 3"
    },
    "language_info": {
      "name": "python"
    }
  },
  "cells": [
    {
      "cell_type": "code",
      "metadata": {
        "colab": {
          "base_uri": "https://localhost:8080/"
        },
        "id": "FYR1exMVWsVs",
        "outputId": "1730066e-3cdf-419a-9654-a9919df05078"
      },
      "source": [
        "import tensorflow\n",
        "!pip install tensorflow-privacy"
      ],
      "execution_count": null,
      "outputs": [
        {
          "output_type": "stream",
          "text": [
            "Collecting tensorflow-privacy\n",
            "\u001b[?25l  Downloading https://files.pythonhosted.org/packages/5e/53/31a388f82202a155f248f75cc0f45bd0b85a0ef020a2472e600dc19d38d6/tensorflow_privacy-0.5.2-py3-none-any.whl (192kB)\n",
            "\r\u001b[K     |█▊                              | 10kB 15.5MB/s eta 0:00:01\r\u001b[K     |███▍                            | 20kB 18.4MB/s eta 0:00:01\r\u001b[K     |█████                           | 30kB 14.4MB/s eta 0:00:01\r\u001b[K     |██████▉                         | 40kB 13.2MB/s eta 0:00:01\r\u001b[K     |████████▌                       | 51kB 7.8MB/s eta 0:00:01\r\u001b[K     |██████████▏                     | 61kB 7.4MB/s eta 0:00:01\r\u001b[K     |████████████                    | 71kB 8.4MB/s eta 0:00:01\r\u001b[K     |█████████████▋                  | 81kB 9.2MB/s eta 0:00:01\r\u001b[K     |███████████████▎                | 92kB 9.0MB/s eta 0:00:01\r\u001b[K     |█████████████████               | 102kB 7.5MB/s eta 0:00:01\r\u001b[K     |██████████████████▊             | 112kB 7.5MB/s eta 0:00:01\r\u001b[K     |████████████████████▍           | 122kB 7.5MB/s eta 0:00:01\r\u001b[K     |██████████████████████▏         | 133kB 7.5MB/s eta 0:00:01\r\u001b[K     |███████████████████████▉        | 143kB 7.5MB/s eta 0:00:01\r\u001b[K     |█████████████████████████▌      | 153kB 7.5MB/s eta 0:00:01\r\u001b[K     |███████████████████████████▏    | 163kB 7.5MB/s eta 0:00:01\r\u001b[K     |█████████████████████████████   | 174kB 7.5MB/s eta 0:00:01\r\u001b[K     |██████████████████████████████▋ | 184kB 7.5MB/s eta 0:00:01\r\u001b[K     |████████████████████████████████| 194kB 7.5MB/s \n",
            "\u001b[?25hRequirement already satisfied: scipy>=0.17 in /usr/local/lib/python3.7/dist-packages (from tensorflow-privacy) (1.4.1)\n",
            "Requirement already satisfied: dm-tree~=0.1.1 in /usr/local/lib/python3.7/dist-packages (from tensorflow-privacy) (0.1.6)\n",
            "Requirement already satisfied: mpmath in /usr/local/lib/python3.7/dist-packages (from tensorflow-privacy) (1.2.1)\n",
            "Requirement already satisfied: tensorflow-estimator>=2.3.0 in /usr/local/lib/python3.7/dist-packages (from tensorflow-privacy) (2.5.0)\n",
            "Requirement already satisfied: numpy>=1.13.3 in /usr/local/lib/python3.7/dist-packages (from scipy>=0.17->tensorflow-privacy) (1.19.5)\n",
            "Requirement already satisfied: six>=1.12.0 in /usr/local/lib/python3.7/dist-packages (from dm-tree~=0.1.1->tensorflow-privacy) (1.15.0)\n",
            "Installing collected packages: tensorflow-privacy\n",
            "Successfully installed tensorflow-privacy-0.5.2\n"
          ],
          "name": "stdout"
        }
      ]
    },
    {
      "cell_type": "code",
      "metadata": {
        "id": "dFNUG6F_K0K2"
      },
      "source": [
        "from tensorflow_privacy.privacy.analysis import compute_dp_sgd_privacy"
      ],
      "execution_count": null,
      "outputs": []
    },
    {
      "cell_type": "code",
      "metadata": {
        "colab": {
          "base_uri": "https://localhost:8080/"
        },
        "id": "eG4cZXS_bn4s",
        "outputId": "4735dd86-8ba5-46c6-f566-a2c93b353c5f"
      },
      "source": [
        "#eps = 0.5\n",
        "rdp = compute_dp_sgd_privacy.compute_dp_sgd_privacy(n=60000, batch_size=128, noise_multiplier=5.06, epochs=200, delta=1e-5)\n",
        "#epsilon = get_privacy_spent(5218, rdp, target_delta=1e-5)[0]\n",
        "rdp"
      ],
      "execution_count": null,
      "outputs": [
        {
          "output_type": "stream",
          "text": [
            "DP-SGD with sampling rate = 0.213% and noise_multiplier = 5.06 iterated over 93750 steps satisfies differential privacy with eps = 0.5 and delta = 1e-05.\n",
            "The optimal RDP order is 32.0.\n"
          ],
          "name": "stdout"
        },
        {
          "output_type": "execute_result",
          "data": {
            "text/plain": [
              "(0.5004457309791521, 32.0)"
            ]
          },
          "metadata": {
            "tags": []
          },
          "execution_count": 4
        }
      ]
    },
    {
      "cell_type": "code",
      "metadata": {
        "id": "LMEKh8oob327",
        "colab": {
          "base_uri": "https://localhost:8080/"
        },
        "outputId": "d32fcc33-5dbb-40f9-da68-8317c045f225"
      },
      "source": [
        "#eps = 2\n",
        "rdp = compute_dp_sgd_privacy.compute_dp_sgd_privacy(n=60000, batch_size=128, noise_multiplier=1.566, epochs=200, delta=1e-5)\n",
        "#epsilon = get_privacy_spent(5218, rdp, target_delta=1e-5)[0]\n",
        "rdp"
      ],
      "execution_count": null,
      "outputs": [
        {
          "output_type": "stream",
          "text": [
            "DP-SGD with sampling rate = 0.213% and noise_multiplier = 1.566 iterated over 93750 steps satisfies differential privacy with eps = 2 and delta = 1e-05.\n",
            "The optimal RDP order is 10.0.\n"
          ],
          "name": "stdout"
        },
        {
          "output_type": "execute_result",
          "data": {
            "text/plain": [
              "(2.0029691555217726, 10.0)"
            ]
          },
          "metadata": {
            "tags": []
          },
          "execution_count": 5
        }
      ]
    },
    {
      "cell_type": "code",
      "metadata": {
        "id": "Av8zIfOzZfxP",
        "colab": {
          "base_uri": "https://localhost:8080/"
        },
        "outputId": "24a6ff79-19db-464b-e627-505072aebc55"
      },
      "source": [
        "#eps = 5\n",
        "rdp = compute_dp_sgd_privacy.compute_dp_sgd_privacy(n=60000, batch_size=128, noise_multiplier=0.894, epochs=200, delta=1e-5)\n",
        "#epsilon = get_privacy_spent(5218, rdp, target_delta=1e-5)[0]\n",
        "rdp"
      ],
      "execution_count": null,
      "outputs": [
        {
          "output_type": "stream",
          "text": [
            "DP-SGD with sampling rate = 0.213% and noise_multiplier = 0.894 iterated over 93750 steps satisfies differential privacy with eps = 5 and delta = 1e-05.\n",
            "The optimal RDP order is 5.0.\n"
          ],
          "name": "stdout"
        },
        {
          "output_type": "execute_result",
          "data": {
            "text/plain": [
              "(4.995508385960823, 5.0)"
            ]
          },
          "metadata": {
            "tags": []
          },
          "execution_count": 6
        }
      ]
    },
    {
      "cell_type": "code",
      "metadata": {
        "id": "PGuJbIGUazMX",
        "colab": {
          "base_uri": "https://localhost:8080/"
        },
        "outputId": "dd00ce8a-232b-497f-e10b-e875fdba09b9"
      },
      "source": [
        "#eps = 15\n",
        "rdp = compute_dp_sgd_privacy.compute_dp_sgd_privacy(n=60000, batch_size=128, noise_multiplier=0.602, epochs=200, delta=1e-5)\n",
        "#epsilon = get_privacy_spent(5218, rdp, target_delta=1e-5)[0]\n",
        "rdp"
      ],
      "execution_count": null,
      "outputs": [
        {
          "output_type": "stream",
          "text": [
            "DP-SGD with sampling rate = 0.213% and noise_multiplier = 0.602 iterated over 93750 steps satisfies differential privacy with eps = 15 and delta = 1e-05.\n",
            "The optimal RDP order is 2.5.\n"
          ],
          "name": "stdout"
        },
        {
          "output_type": "execute_result",
          "data": {
            "text/plain": [
              "(15.014660331850779, 2.5)"
            ]
          },
          "metadata": {
            "tags": []
          },
          "execution_count": 22
        }
      ]
    }
  ]
}